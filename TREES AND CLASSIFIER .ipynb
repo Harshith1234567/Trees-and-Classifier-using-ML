{
 "cells": [
  {
   "cell_type": "code",
   "execution_count": 7,
   "metadata": {},
   "outputs": [],
   "source": [
    "from sklearn.tree import DecisionTreeClassifier\n",
    "import numpy as np\n",
    "import pandas as pd\n",
    "import matplotlib.pyplot as plt\n"
   ]
  },
  {
   "cell_type": "code",
   "execution_count": 8,
   "metadata": {},
   "outputs": [
    {
     "data": {
      "text/html": [
       "<div>\n",
       "<style scoped>\n",
       "    .dataframe tbody tr th:only-of-type {\n",
       "        vertical-align: middle;\n",
       "    }\n",
       "\n",
       "    .dataframe tbody tr th {\n",
       "        vertical-align: top;\n",
       "    }\n",
       "\n",
       "    .dataframe thead th {\n",
       "        text-align: right;\n",
       "    }\n",
       "</style>\n",
       "<table border=\"1\" class=\"dataframe\">\n",
       "  <thead>\n",
       "    <tr style=\"text-align: right;\">\n",
       "      <th></th>\n",
       "      <th>tms</th>\n",
       "      <th>tmn</th>\n",
       "      <th>tmi</th>\n",
       "      <th>mr</th>\n",
       "      <th>rnf</th>\n",
       "      <th>mdic</th>\n",
       "      <th>emd</th>\n",
       "      <th>mv</th>\n",
       "      <th>Class</th>\n",
       "    </tr>\n",
       "  </thead>\n",
       "  <tbody>\n",
       "    <tr>\n",
       "      <th>0</th>\n",
       "      <td>-0.230</td>\n",
       "      <td>-0.510</td>\n",
       "      <td>-0.158</td>\n",
       "      <td>0.841</td>\n",
       "      <td>0.410</td>\n",
       "      <td>0.137</td>\n",
       "      <td>0.239</td>\n",
       "      <td>0.035</td>\n",
       "      <td>normal</td>\n",
       "    </tr>\n",
       "    <tr>\n",
       "      <th>1</th>\n",
       "      <td>-0.165</td>\n",
       "      <td>-0.317</td>\n",
       "      <td>-0.192</td>\n",
       "      <td>0.924</td>\n",
       "      <td>0.256</td>\n",
       "      <td>0.252</td>\n",
       "      <td>0.329</td>\n",
       "      <td>0.022</td>\n",
       "      <td>normal</td>\n",
       "    </tr>\n",
       "    <tr>\n",
       "      <th>2</th>\n",
       "      <td>-0.235</td>\n",
       "      <td>-0.337</td>\n",
       "      <td>-0.020</td>\n",
       "      <td>0.795</td>\n",
       "      <td>0.378</td>\n",
       "      <td>0.152</td>\n",
       "      <td>0.250</td>\n",
       "      <td>0.029</td>\n",
       "      <td>normal</td>\n",
       "    </tr>\n",
       "    <tr>\n",
       "      <th>3</th>\n",
       "      <td>-0.449</td>\n",
       "      <td>-0.217</td>\n",
       "      <td>-0.091</td>\n",
       "      <td>0.746</td>\n",
       "      <td>0.200</td>\n",
       "      <td>0.027</td>\n",
       "      <td>0.078</td>\n",
       "      <td>0.023</td>\n",
       "      <td>normal</td>\n",
       "    </tr>\n",
       "    <tr>\n",
       "      <th>4</th>\n",
       "      <td>0.084</td>\n",
       "      <td>-0.012</td>\n",
       "      <td>-0.054</td>\n",
       "      <td>0.977</td>\n",
       "      <td>0.193</td>\n",
       "      <td>0.297</td>\n",
       "      <td>0.354</td>\n",
       "      <td>0.034</td>\n",
       "      <td>normal</td>\n",
       "    </tr>\n",
       "    <tr>\n",
       "      <th>...</th>\n",
       "      <td>...</td>\n",
       "      <td>...</td>\n",
       "      <td>...</td>\n",
       "      <td>...</td>\n",
       "      <td>...</td>\n",
       "      <td>...</td>\n",
       "      <td>...</td>\n",
       "      <td>...</td>\n",
       "      <td>...</td>\n",
       "    </tr>\n",
       "    <tr>\n",
       "      <th>191</th>\n",
       "      <td>-0.224</td>\n",
       "      <td>-0.085</td>\n",
       "      <td>-0.006</td>\n",
       "      <td>0.945</td>\n",
       "      <td>0.121</td>\n",
       "      <td>0.182</td>\n",
       "      <td>0.276</td>\n",
       "      <td>0.033</td>\n",
       "      <td>glaucoma</td>\n",
       "    </tr>\n",
       "    <tr>\n",
       "      <th>192</th>\n",
       "      <td>-0.209</td>\n",
       "      <td>-0.289</td>\n",
       "      <td>0.043</td>\n",
       "      <td>0.736</td>\n",
       "      <td>0.273</td>\n",
       "      <td>0.207</td>\n",
       "      <td>0.312</td>\n",
       "      <td>0.036</td>\n",
       "      <td>glaucoma</td>\n",
       "    </tr>\n",
       "    <tr>\n",
       "      <th>193</th>\n",
       "      <td>-0.048</td>\n",
       "      <td>-0.278</td>\n",
       "      <td>0.048</td>\n",
       "      <td>0.823</td>\n",
       "      <td>0.088</td>\n",
       "      <td>0.174</td>\n",
       "      <td>0.231</td>\n",
       "      <td>0.028</td>\n",
       "      <td>glaucoma</td>\n",
       "    </tr>\n",
       "    <tr>\n",
       "      <th>194</th>\n",
       "      <td>0.026</td>\n",
       "      <td>-0.126</td>\n",
       "      <td>0.167</td>\n",
       "      <td>0.808</td>\n",
       "      <td>0.010</td>\n",
       "      <td>0.272</td>\n",
       "      <td>0.355</td>\n",
       "      <td>0.023</td>\n",
       "      <td>glaucoma</td>\n",
       "    </tr>\n",
       "    <tr>\n",
       "      <th>195</th>\n",
       "      <td>0.134</td>\n",
       "      <td>-0.277</td>\n",
       "      <td>-0.156</td>\n",
       "      <td>0.875</td>\n",
       "      <td>0.075</td>\n",
       "      <td>0.066</td>\n",
       "      <td>0.122</td>\n",
       "      <td>0.016</td>\n",
       "      <td>glaucoma</td>\n",
       "    </tr>\n",
       "  </tbody>\n",
       "</table>\n",
       "<p>196 rows × 9 columns</p>\n",
       "</div>"
      ],
      "text/plain": [
       "       tms    tmn    tmi     mr    rnf   mdic    emd     mv     Class\n",
       "0   -0.230 -0.510 -0.158  0.841  0.410  0.137  0.239  0.035    normal\n",
       "1   -0.165 -0.317 -0.192  0.924  0.256  0.252  0.329  0.022    normal\n",
       "2   -0.235 -0.337 -0.020  0.795  0.378  0.152  0.250  0.029    normal\n",
       "3   -0.449 -0.217 -0.091  0.746  0.200  0.027  0.078  0.023    normal\n",
       "4    0.084 -0.012 -0.054  0.977  0.193  0.297  0.354  0.034    normal\n",
       "..     ...    ...    ...    ...    ...    ...    ...    ...       ...\n",
       "191 -0.224 -0.085 -0.006  0.945  0.121  0.182  0.276  0.033  glaucoma\n",
       "192 -0.209 -0.289  0.043  0.736  0.273  0.207  0.312  0.036  glaucoma\n",
       "193 -0.048 -0.278  0.048  0.823  0.088  0.174  0.231  0.028  glaucoma\n",
       "194  0.026 -0.126  0.167  0.808  0.010  0.272  0.355  0.023  glaucoma\n",
       "195  0.134 -0.277 -0.156  0.875  0.075  0.066  0.122  0.016  glaucoma\n",
       "\n",
       "[196 rows x 9 columns]"
      ]
     },
     "execution_count": 8,
     "metadata": {},
     "output_type": "execute_result"
    }
   ],
   "source": [
    "df = pd.read_csv('newgl.csv')\n",
    "df"
   ]
  },
  {
   "cell_type": "code",
   "execution_count": 9,
   "metadata": {},
   "outputs": [],
   "source": [
    "X = np.array(df.drop(['Class'],1))\n",
    "y = np.array(df['Class'])"
   ]
  },
  {
   "cell_type": "code",
   "execution_count": 10,
   "metadata": {},
   "outputs": [],
   "source": [
    "decisiontree = DecisionTreeClassifier(random_state=0)"
   ]
  },
  {
   "cell_type": "code",
   "execution_count": 12,
   "metadata": {},
   "outputs": [],
   "source": [
    "model = decisiontree.fit(X, y)"
   ]
  },
  {
   "cell_type": "code",
   "execution_count": 14,
   "metadata": {},
   "outputs": [],
   "source": [
    "predictions = model.predict(X)"
   ]
  },
  {
   "cell_type": "code",
   "execution_count": 15,
   "metadata": {},
   "outputs": [
    {
     "data": {
      "text/plain": [
       "1.0"
      ]
     },
     "execution_count": 15,
     "metadata": {},
     "output_type": "execute_result"
    }
   ],
   "source": [
    "from sklearn.metrics import accuracy_score\n",
    "accuracy_score(y,predictions)"
   ]
  },
  {
   "cell_type": "code",
   "execution_count": 16,
   "metadata": {},
   "outputs": [
    {
     "data": {
      "text/plain": [
       "array(['normal'], dtype=object)"
      ]
     },
     "execution_count": 16,
     "metadata": {},
     "output_type": "execute_result"
    }
   ],
   "source": [
    "observation = [[-0.235,-0.337,-0.020,0.795,0.378,0.152,0.250,0.029]]\n",
    "model.predict(observation)"
   ]
  },
  {
   "cell_type": "code",
   "execution_count": 17,
   "metadata": {},
   "outputs": [
    {
     "data": {
      "text/plain": [
       "array(['glaucoma'], dtype=object)"
      ]
     },
     "execution_count": 17,
     "metadata": {},
     "output_type": "execute_result"
    }
   ],
   "source": [
    "observation = [[0.026,-0.126,0.167,0.808,0.010,0.272,0.355,0.023]]\n",
    "model.predict(observation)"
   ]
  },
  {
   "cell_type": "code",
   "execution_count": 18,
   "metadata": {},
   "outputs": [
    {
     "data": {
      "text/plain": [
       "array(['normal'], dtype=object)"
      ]
     },
     "execution_count": 18,
     "metadata": {},
     "output_type": "execute_result"
    }
   ],
   "source": [
    "observation = [[-0.449,-0.217,-0.091,0.746,0.088,0.174,0.231,0.028]]\n",
    "model.predict(observation)"
   ]
  },
  {
   "cell_type": "code",
   "execution_count": 19,
   "metadata": {},
   "outputs": [
    {
     "data": {
      "text/plain": [
       "array(['normal'], dtype=object)"
      ]
     },
     "execution_count": 19,
     "metadata": {},
     "output_type": "execute_result"
    }
   ],
   "source": [
    "observation = [[0.134,-0.277,-0.156,0.875,0.200,0.027,0.078,0.023]]\n",
    "model.predict(observation)"
   ]
  },
  {
   "cell_type": "code",
   "execution_count": 20,
   "metadata": {},
   "outputs": [
    {
     "data": {
      "text/plain": [
       "array(['glaucoma'], dtype=object)"
      ]
     },
     "execution_count": 20,
     "metadata": {},
     "output_type": "execute_result"
    }
   ],
   "source": [
    "observation = [[0.134,-0.277,-0.156,0.875,0.075,0.066,0.122,0.016]]\n",
    "model.predict(observation)"
   ]
  },
  {
   "cell_type": "code",
   "execution_count": null,
   "metadata": {},
   "outputs": [],
   "source": []
  }
 ],
 "metadata": {
  "kernelspec": {
   "display_name": "Python 3",
   "language": "python",
   "name": "python3"
  },
  "language_info": {
   "codemirror_mode": {
    "name": "ipython",
    "version": 3
   },
   "file_extension": ".py",
   "mimetype": "text/x-python",
   "name": "python",
   "nbconvert_exporter": "python",
   "pygments_lexer": "ipython3",
   "version": "3.7.6"
  }
 },
 "nbformat": 4,
 "nbformat_minor": 4
}
